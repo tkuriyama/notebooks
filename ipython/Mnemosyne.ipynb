{
 "cells": [
  {
   "cell_type": "markdown",
   "metadata": {},
   "source": [
    "## Overview\n",
    "\n",
    "\"Mnemo\" classes wrap Sequence & Mapping objects and log object interaction.\n",
    "\n",
    "Each Mnemo class inherits from the corresponding Abstract Base Class (ABC), and\n",
    "thus supports all methods that are available by default to Sequence or Mapping \n",
    "objects. \n",
    "\n",
    "The purpose of the Mnemo wrapper is to log actions taken on the object (both \n",
    "with and without side-effects). The set of actions captured are \n",
    "`(__getitem__, __setitem__, __delitem__, insert)`. Since these are\n",
    "abstract methods, calling a method like append (that implements the abstract\n",
    "methods) will result in `__getitem__` and `__setitem__` being logged multiple\n",
    "times.\n",
    "\n",
    "The log is stored in self.log as a list of tuples: \n",
    "\n",
    "    [(ctr, action_type, index/key, value)...]\n",
    "\n",
    "... where: \n",
    "\n",
    "    ctr = int of action counter, starts from 0 and autoincrements by 1\n",
    "    action_type = string of action type, one of ('get', 'set', 'del', 'ins')\n",
    "    index/key = index or key being used\n",
    "    value = value being retrieved or effected\n",
    "\n",
    "\n",
    "## Classes\n",
    "* MnemoSequence: class for non-mutable sequences, e.g. strings, tuples\n",
    "* MnemoMutableSequence: class for mutable sequences, e.g. lists\n",
    "* MnemoMutableMapping: class for mutable mappings, e.g. dicts"
   ]
  },
  {
   "cell_type": "code",
   "execution_count": 1,
   "metadata": {
    "collapsed": true
   },
   "outputs": [],
   "source": [
    "import collections"
   ]
  },
  {
   "cell_type": "code",
   "execution_count": 2,
   "metadata": {
    "collapsed": true
   },
   "outputs": [],
   "source": [
    "class MnemoSequence(collections.Sequence):\n",
    "    \"\"\"Mnemo class for Sequence objects. \n",
    "    Args\n",
    "        obj: Sequence object with which to initialize object, e.g. tuple\n",
    "    Methods\n",
    "        abstract methods required by ABC: __getitem__, __len__    \n",
    "    \"\"\"\n",
    "\n",
    "    def __init__(self, obj):\n",
    "        self.obj = obj\n",
    "        self.ctr = 0\n",
    "        self.log = []\n",
    "\n",
    "    def __getitem__(self, ind):\n",
    "        self.log.append((self.ctr, 'get', ind, self.obj[ind]))\n",
    "        self.ctr += 1\n",
    "        return self.obj[ind]\n",
    "\n",
    "    def __len__(self):\n",
    "        return len(self.obj)"
   ]
  },
  {
   "cell_type": "code",
   "execution_count": 3,
   "metadata": {
    "collapsed": true
   },
   "outputs": [],
   "source": [
    "class MnemoMutableSequence(collections.MutableSequence):\n",
    "    \"\"\"Mnemo class for Mutable Sequence objects.\n",
    "    Args\n",
    "        obj: Mutable Sequence object with which to initialize object, e.g. list\n",
    "    Methods\n",
    "        abstract methods required by ABC: __getitem__, __setitem__, \n",
    "                                          __delitem__, __len__, insert\n",
    "    \"\"\"\n",
    "    def __init__(self, obj):\n",
    "        self.obj = obj\n",
    "        self.ctr = 0\n",
    "        self.log = []\n",
    "\n",
    "    def __getitem__(self, ind):\n",
    "        self.log.append((self.ctr, 'get', ind, self.obj[ind]))\n",
    "        self.ctr += 1\n",
    "        return self.obj[ind]\n",
    "\n",
    "    def __setitem__(self, ind, val):\n",
    "        self.log.append((self.ctr, 'set', ind, val))\n",
    "        self.ctr += 1\n",
    "        self.obj[ind] = val\n",
    "\n",
    "    def __delitem__(self, ind):\n",
    "        self.log.append((self.ctr, 'del', ind, self.obj[ind]))\n",
    "        self.ctr += 1\n",
    "        del self.obj[ind]\n",
    "\n",
    "    def __len__(self):\n",
    "        return len(self.obj)\n",
    "\n",
    "    def insert(self, ind, val):\n",
    "        self.log.append((self.ctr, 'ins', ind, val))\n",
    "        self.ctr += 1\n",
    "        self.obj.insert(ind, val)\n"
   ]
  },
  {
   "cell_type": "code",
   "execution_count": 4,
   "metadata": {
    "collapsed": true
   },
   "outputs": [],
   "source": [
    "class MnemoMutableMapping(collections.MutableMapping):\n",
    "    \"\"\"Mnemo class for Mutable Mapping objects.\n",
    "    Args\n",
    "        obj: Mutable Mapping object with which to initialize object, e.g. dict\n",
    "    Methods\n",
    "        abstract methods required by ABC: __getitem__, __setitem__, \n",
    "                                          __delitem__, __iter__, __len__\n",
    "        insert: insert new key (and value) into object\n",
    "        check_valid: helper function for abstract methods\n",
    "    \"\"\"\n",
    "\n",
    "    def __init__(self, obj):\n",
    "        self.obj = obj\n",
    "        self.ctr = 0\n",
    "        self.log = []\n",
    "\n",
    "    def __getitem__(self, key):\n",
    "        self.check_valid(key)\n",
    "        self.log.append((self.ctr, 'get', key, self.obj[key]))\n",
    "        self.ctr += 1\n",
    "        return self.obj[key]\n",
    "\n",
    "    def __setitem__(self, key, val):\n",
    "        self.check_valid(key, val)\n",
    "        self.log.append((self.ctr, 'set', key, val))\n",
    "        self.ctr += 1\n",
    "        self.obj[key] = val\n",
    "\n",
    "    def __delitem__(self, key):\n",
    "        self.check_valid(key)\n",
    "        self.log.append((self.ctr, 'del', key, self.obj[key]))\n",
    "        self.ctr += 1\n",
    "        del self.obj[key]\n",
    "\n",
    "    def __iter__(self):\n",
    "        return iter(self.obj.keys())\n",
    "\n",
    "    def __len__(self):\n",
    "        return len(self.obj.keys())\n",
    "\n",
    "    def insert(self, key, val):\n",
    "        self.log.append((self.ctr, 'ins', key, val))\n",
    "        self.ctr += 1\n",
    "        self.obj[key] = val\n",
    "    \n",
    "    def check_valid(self, key, val=''):\n",
    "        \"\"\"Check if key is in object's keys, else insert.\"\"\"\n",
    "        if key not in self.obj.keys():\n",
    "            if val:\n",
    "                self.insert(key, val)\n",
    "            else:\n",
    "                raise KeyError, key"
   ]
  },
  {
   "cell_type": "markdown",
   "metadata": {},
   "source": [
    "<hr>"
   ]
  },
  {
   "cell_type": "markdown",
   "metadata": {},
   "source": [
    "## Examples"
   ]
  },
  {
   "cell_type": "markdown",
   "metadata": {},
   "source": [
    "### List"
   ]
  },
  {
   "cell_type": "code",
   "execution_count": 5,
   "metadata": {
    "collapsed": false
   },
   "outputs": [
    {
     "data": {
      "text/plain": [
       "['a', 'b', 'c', 'd', 'e', 'f', 'g']"
      ]
     },
     "execution_count": 5,
     "metadata": {},
     "output_type": "execute_result"
    }
   ],
   "source": [
    "sample_list = list('abcdefg')\n",
    "test = MnemoMutableSequence(sample_list)\n",
    "test.obj"
   ]
  },
  {
   "cell_type": "code",
   "execution_count": 6,
   "metadata": {
    "collapsed": false
   },
   "outputs": [
    {
     "data": {
      "text/plain": [
       "[]"
      ]
     },
     "execution_count": 6,
     "metadata": {},
     "output_type": "execute_result"
    }
   ],
   "source": [
    "test.log"
   ]
  },
  {
   "cell_type": "code",
   "execution_count": 7,
   "metadata": {
    "collapsed": false
   },
   "outputs": [
    {
     "data": {
      "text/plain": [
       "'a'"
      ]
     },
     "execution_count": 7,
     "metadata": {},
     "output_type": "execute_result"
    }
   ],
   "source": [
    "test[0]"
   ]
  },
  {
   "cell_type": "code",
   "execution_count": 8,
   "metadata": {
    "collapsed": false
   },
   "outputs": [
    {
     "data": {
      "text/plain": [
       "False"
      ]
     },
     "execution_count": 8,
     "metadata": {},
     "output_type": "execute_result"
    }
   ],
   "source": [
    "test[1] == 'Z'"
   ]
  },
  {
   "cell_type": "code",
   "execution_count": 9,
   "metadata": {
    "collapsed": true
   },
   "outputs": [],
   "source": [
    "test[1] = 'Z'"
   ]
  },
  {
   "cell_type": "code",
   "execution_count": 10,
   "metadata": {
    "collapsed": true
   },
   "outputs": [],
   "source": [
    "del test[-1]"
   ]
  },
  {
   "cell_type": "code",
   "execution_count": 11,
   "metadata": {
    "collapsed": false
   },
   "outputs": [
    {
     "data": {
      "text/plain": [
       "['a', 'Z', 'c', 'd', 'e', 'f']"
      ]
     },
     "execution_count": 11,
     "metadata": {},
     "output_type": "execute_result"
    }
   ],
   "source": [
    "test.obj"
   ]
  },
  {
   "cell_type": "code",
   "execution_count": 12,
   "metadata": {
    "collapsed": false
   },
   "outputs": [
    {
     "data": {
      "text/plain": [
       "[(0, 'get', 0, 'a'),\n",
       " (1, 'get', 1, 'b'),\n",
       " (2, 'set', 1, 'Z'),\n",
       " (3, 'del', -1, 'g')]"
      ]
     },
     "execution_count": 12,
     "metadata": {},
     "output_type": "execute_result"
    }
   ],
   "source": [
    "test.log"
   ]
  },
  {
   "cell_type": "markdown",
   "metadata": {},
   "source": [
    "### Dictionary"
   ]
  },
  {
   "cell_type": "code",
   "execution_count": 13,
   "metadata": {
    "collapsed": true
   },
   "outputs": [],
   "source": [
    "sample_d = {'a': 123,\n",
    "            'b': 456,\n",
    "            'c': 789}\n",
    "test_d = MnemoMutableMapping(sample_d)"
   ]
  },
  {
   "cell_type": "code",
   "execution_count": 14,
   "metadata": {
    "collapsed": false
   },
   "outputs": [
    {
     "data": {
      "text/plain": [
       "123"
      ]
     },
     "execution_count": 14,
     "metadata": {},
     "output_type": "execute_result"
    }
   ],
   "source": [
    "test_d['a']"
   ]
  },
  {
   "cell_type": "code",
   "execution_count": 15,
   "metadata": {
    "collapsed": false
   },
   "outputs": [],
   "source": [
    "test_d['d'] = 999"
   ]
  },
  {
   "cell_type": "code",
   "execution_count": 16,
   "metadata": {
    "collapsed": false
   },
   "outputs": [
    {
     "data": {
      "text/plain": [
       "{'a': 123, 'b': 456, 'c': 789, 'd': 999}"
      ]
     },
     "execution_count": 16,
     "metadata": {},
     "output_type": "execute_result"
    }
   ],
   "source": [
    "test_d.obj"
   ]
  },
  {
   "cell_type": "code",
   "execution_count": 17,
   "metadata": {
    "collapsed": false
   },
   "outputs": [
    {
     "data": {
      "text/plain": [
       "[(0, 'get', 'a', 123), (1, 'ins', 'd', 999), (2, 'set', 'd', 999)]"
      ]
     },
     "execution_count": 17,
     "metadata": {},
     "output_type": "execute_result"
    }
   ],
   "source": [
    "test_d.log"
   ]
  },
  {
   "cell_type": "markdown",
   "metadata": {},
   "source": [
    "<hr>"
   ]
  },
  {
   "cell_type": "markdown",
   "metadata": {},
   "source": [
    "## Tests"
   ]
  },
  {
   "cell_type": "code",
   "execution_count": 18,
   "metadata": {
    "collapsed": true
   },
   "outputs": [],
   "source": [
    "def test_MnemoSequence():\n",
    "    \"\"\"Unit tests for MnemoSequence using str, unicode, and tuple examples.\"\"\"\n",
    "\n",
    "    # Create and find length of empty sequence\n",
    "    for empty in ('', u'', ()):\n",
    "        test = MnemoSequence(empty)\n",
    "        assert len(test) == 0, 'Empty sequence should have length 0'\n",
    "\n",
    "    # Create and find length of singleton sequence\n",
    "    for singleton in ('a', u'a', ('a',)):\n",
    "        test = MnemoSequence(singleton)\n",
    "        assert len(test) == 1, 'Singleton sequence should have length 1'\n",
    "\n",
    "    # Access non-empty sequence and verify log is written\n",
    "    for seq in ('abc', u'abc', ('a', 'b', 'c')):\n",
    "        test = MnemoSequence(seq)\n",
    "        test[0]\n",
    "        assert test.log == [(0, 'get', 0, 'a')], 'Log incorrect'\n",
    "\n",
    "    return True"
   ]
  },
  {
   "cell_type": "code",
   "execution_count": 20,
   "metadata": {
    "collapsed": true
   },
   "outputs": [],
   "source": [
    "def test_MnemoMutableSequence():\n",
    "    \"\"\"Unit test for MnemoMutableSequence using list as an example.\"\"\"\n",
    "\n",
    "    # Create and find length of empty sequence\n",
    "    for empty in ([],):\n",
    "        test = MnemoMutableSequence(empty)\n",
    "        assert len(test) == 0, 'Empty sequence should have length 0'\n",
    "\n",
    "    # Create and find length of singleton sequence\n",
    "    for singleton in ([1], ['a']):\n",
    "        test = MnemoMutableSequence(singleton)\n",
    "        assert len(test) == 1, 'Singleton sequence should have length 1'\n",
    "\n",
    "    # Access non-empty sequence and verify log\n",
    "    for seq in (['a', 'b', 'c'], ['a', 1, 2, 3]):\n",
    "        test = MnemoMutableSequence(seq)\n",
    "        test[0]\n",
    "        assert test.log == [(0, 'get', 0, 'a')], 'Log incorrect (get)'\n",
    "\n",
    "    # Set item and verify log\n",
    "    for seq in (['!', '-', '*'], ['&', '%', '*']):\n",
    "        test = MnemoMutableSequence(seq)\n",
    "        test[2] = '$'\n",
    "        assert test.log == [(0, 'set', 2, '$')], 'Log incorrect (set)'\n",
    "\n",
    "    # Delete item and verify log\n",
    "    for seq in (['!', '-', '*'], ['&', '%', '*']):\n",
    "        test = MnemoMutableSequence(seq)\n",
    "        del test[2]\n",
    "        assert test.log == [(0, 'del', 2, '*')], 'Log incorrect (del)'\n",
    "\n",
    "    # Insert item and verify list, length, and log\n",
    "    for seq in ([1, 2, 3, 4, 5],):\n",
    "        test = MnemoMutableSequence(seq)\n",
    "        test.insert(2, 100)\n",
    "        assert test.obj == [1, 2, 100, 3, 4, 5], 'Insertion object incorrect'\n",
    "        assert len(test) == 6, 'Insertion object results in incorrect length'\n",
    "\n",
    "    # Test reverse(); should result in many log entries\n",
    "    for seq in ([1, 2, 3, 4, 5],):\n",
    "        test = MnemoMutableSequence(seq)\n",
    "        test.reverse() \n",
    "        assert test.obj == [5, 4, 3, 2, 1], 'Reversed object incorrect'\n",
    "        assert len(test.log) > 1, 'Log length too short after reverse'\n",
    "\n",
    "    return True"
   ]
  },
  {
   "cell_type": "code",
   "execution_count": 19,
   "metadata": {
    "collapsed": true
   },
   "outputs": [],
   "source": [
    "def test_MnemoMutableMapping():\n",
    "    \"\"\"Unit tests for MnemoMutableMapping using dict as example.\"\"\"\n",
    "\n",
    "    # Create and find length of empty mapping\n",
    "    for empty in ({},):\n",
    "        test = MnemoMutableMapping(empty)\n",
    "        assert len(test) == 0, 'Empty sequence should have length 0'\n",
    "\n",
    "    # Create and find length of singleton sequence\n",
    "    for singleton in ({1: 'a'}, {2: 'b'}):\n",
    "        test = MnemoMutableMapping(singleton)\n",
    "        assert len(test) == 1, 'Singleton sequence should have length 1'\n",
    "\n",
    "    # Access non-empty sequence and verify log\n",
    "    for seq in ({0: 'a', 1: 'b'}, {0: 'a', 100: 'b'}):\n",
    "        test = MnemoMutableMapping(seq)\n",
    "        test[0]\n",
    "        assert test.log == [(0, 'get', 0, 'a')], 'Log incorrect (get)'\n",
    "\n",
    "    # Set item and verify log\n",
    "    for seq in ({0: 'a', 'testing': '#'}, {'a': 'b', 'testing': 100}):\n",
    "        test = MnemoMutableMapping(seq)\n",
    "        test['testing'] = '$'\n",
    "        assert test.log == [(0, 'set', 'testing', '$')], 'Log incorrect (set)'\n",
    "\n",
    "    # Delete item and verify log\n",
    "    for seq in ({1: '#', 2: '*', 100: '?'}, ):\n",
    "        test = MnemoMutableMapping(seq)\n",
    "        del test[2]\n",
    "        assert test.log == [(0, 'del', 2, '*')], 'Log incorrect (del)'\n",
    "\n",
    "    # Check iterkeys works as expected\n",
    "    for seq in ({0: 'zero', 1: 'one', 1000: 'thousand'},):\n",
    "        test = MnemoMutableMapping(seq)\n",
    "        keys = test.iterkeys()\n",
    "        assert sorted(list(keys)) == [0, 1, 1000], 'Iterkeys is wrong'\n",
    "\n",
    "    return True"
   ]
  },
  {
   "cell_type": "code",
   "execution_count": 21,
   "metadata": {
    "collapsed": false
   },
   "outputs": [
    {
     "name": "stdout",
     "output_type": "stream",
     "text": [
      "\n",
      "MnemoSequence\n",
      "True\n",
      "\n",
      "MnemoMutableSequence\n",
      "True\n",
      "\n",
      "MnemoMutableMapping\n",
      "True\n"
     ]
    }
   ],
   "source": [
    "def test():\n",
    "    \"\"\"Execute unit tests.\"\"\"\n",
    "    print '\\nMnemoSequence\\n', test_MnemoSequence()\n",
    "    print '\\nMnemoMutableSequence\\n', test_MnemoMutableSequence()\n",
    "    print '\\nMnemoMutableMapping\\n', test_MnemoMutableMapping()\n",
    "\n",
    "if __name__ == '__main__':\n",
    "    test()"
   ]
  }
 ],
 "metadata": {
  "kernelspec": {
   "display_name": "Python 2",
   "language": "python",
   "name": "python2"
  },
  "language_info": {
   "codemirror_mode": {
    "name": "ipython",
    "version": 2
   },
   "file_extension": ".py",
   "mimetype": "text/x-python",
   "name": "python",
   "nbconvert_exporter": "python",
   "pygments_lexer": "ipython2",
   "version": "2.7.10"
  }
 },
 "nbformat": 4,
 "nbformat_minor": 0
}
